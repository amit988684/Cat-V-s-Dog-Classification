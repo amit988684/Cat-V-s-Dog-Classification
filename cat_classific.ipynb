{
 "cells": [
  {
   "cell_type": "code",
   "execution_count": 1,
   "metadata": {},
   "outputs": [],
   "source": [
    "import time\n",
    "import numpy as np\n",
    "import h5py\n",
    "import matplotlib.pyplot as plt\n",
    "import scipy\n",
    "from scipy import ndimage\n",
    "from dnn_utils import *\n",
    "import warnings\n",
    "warnings.simplefilter(action='ignore', category=FutureWarning)"
   ]
  },
  {
   "cell_type": "code",
   "execution_count": 2,
   "metadata": {},
   "outputs": [
    {
     "name": "stdout",
     "output_type": "stream",
     "text": [
      "4001\n",
      "4001\n"
     ]
    }
   ],
   "source": [
    "import os\n",
    "\n",
    "path, dirs, cat_files_train = next(os.walk(\"training_set/cats/\"))\n",
    "file_count_cat = len(cat_files_train)\n",
    "print(file_count_cat)\n",
    "\n",
    "path, dirs, dog_files_train = next(os.walk(\"training_set/dogs/\"))\n",
    "file_count_dog = len(dog_files_train)\n",
    "print(file_count_dog)\n",
    "    "
   ]
  },
  {
   "cell_type": "code",
   "execution_count": 4,
   "metadata": {},
   "outputs": [
    {
     "name": "stdout",
     "output_type": "stream",
     "text": [
      "400\n"
     ]
    }
   ],
   "source": [
    "n_cat = 200\n",
    "n_dog = 200\n",
    "\n",
    "#Variables\n",
    "m = n_cat + n_dog               # Number of train ex.\n",
    "print(m)\n",
    "num_px = 64\n",
    "label_y = np.zeros((1,m))\n",
    "X_train = np.zeros((12288,m))\n",
    "# Input Dataset from the folder\n",
    "\n",
    "for i in range(m):\n",
    "#     print(i%n_cat)\n",
    "    if i<n_cat:\n",
    "        my_image = \"cat.\"+str(i+1)+\".jpg\" # change this to the name of your image file \n",
    "        fname = \"training_set/cats/\" + my_image\n",
    "        image = np.array(ndimage.imread(fname, flatten=False))\n",
    "        my_image = scipy.misc.imresize(image, size=(num_px,num_px)).reshape((num_px*num_px*3,1))\n",
    "        label_y[0][i] = 1 # the true class of your image (1 -> cat, 0 -> non-cat)\n",
    "        X_train[:,i] = my_image[:,0]\n",
    "        \n",
    "    else:\n",
    "        my_image = \"dog.\"+str((i+1-n_cat))+\".jpg\" # change this to the name of your image file \n",
    "        fname = \"training_set/dogs/\" + my_image\n",
    "        image = np.array(ndimage.imread(fname, flatten=False))\n",
    "        my_image = scipy.misc.imresize(image, size=(num_px,num_px)).reshape((num_px*num_px*3,1))\n",
    "        label_y[0][i] = 0\n",
    "        X_train[:,i] = my_image[:,0]\n",
    "    \n",
    "\n",
    "#     fname = \"test_set/cats/\" + my_image\n",
    "#     image = np.array(ndimage.imread(fname, flatten=False))\n",
    "#     my_image = scipy.misc.imresize(image, size=(num_px,num_px)).reshape((num_px*num_px*3,1))\n",
    "    # my_predicted_image = %precisiondict(my_image, my_label_y, parameters)\n",
    "# print (\"y = \" + str(np.squeeze(my_predicted_image)) + \", your L-layer model predicts a \\\"\" + \n",
    "#        classes[int(np.squeeze(my_predicted_image)),].decode(\"utf-8\") +  \"\\\" picture.\")\n",
    "\n",
    "# print(train_y[1:10])"
   ]
  },
  {
   "cell_type": "code",
   "execution_count": 5,
   "metadata": {},
   "outputs": [
    {
     "name": "stdout",
     "output_type": "stream",
     "text": [
      "400\n",
      "(12288, 400)\n",
      "(1, 400)\n"
     ]
    }
   ],
   "source": [
    "print(m)\n",
    "print(X_train.shape)\n",
    "print(label_y.shape)"
   ]
  },
  {
   "cell_type": "code",
   "execution_count": 6,
   "metadata": {},
   "outputs": [],
   "source": [
    "train_x = X_train/255\n",
    "# train_x = train_x.T\n",
    "train_y = label_y"
   ]
  },
  {
   "cell_type": "code",
   "execution_count": 7,
   "metadata": {},
   "outputs": [],
   "source": [
    "n_x = 12288     # num_px * num_px * 3\n",
    "layers_dims = [12288,10,10,10,1]"
   ]
  },
  {
   "cell_type": "code",
   "execution_count": 8,
   "metadata": {},
   "outputs": [],
   "source": [
    "\n",
    "def L_layer_model(X, Y, layers_dims, learning_rate = 0.001, num_iterations = 3000, print_cost=False):#lr was 0.009\n",
    "    \"\"\"\n",
    "    Implements a L-layer neural network: [LINEAR->RELU]*(L-1)->LINEAR->SIGMOID.\n",
    "    \n",
    "    Arguments:\n",
    "    X -- data, numpy array of shape (number of examples, num_px * num_px * 3)\n",
    "    Y -- true \"label\" vector (containing 0 if cat, 1 if non-cat), of shape (1, number of examples)\n",
    "    layers_dims -- list containing the input size and each layer size, of length (number of layers + 1).\n",
    "    learning_rate -- learning rate of the gradient descent update rule\n",
    "    num_iterations -- number of iterations of the optimization loop\n",
    "    print_cost -- if True, it prints the cost every 100 steps\n",
    "    \n",
    "    Returns:\n",
    "    parameters -- parameters learnt by the model. They can then be used to predict.\n",
    "    \"\"\"\n",
    "\n",
    "    \n",
    "    costs = []                         # keep track of cost\n",
    "    \n",
    "    # Parameters initialization.\n",
    "    ### START CODE HERE ###\n",
    "    parameters = initialize_parameters_deep(layers_dims)\n",
    "#     print(parameters)\n",
    "    ### END CODE HERE ###\n",
    "    \n",
    "    # Loop (gradient descent)\n",
    "    for i in range(0, num_iterations):\n",
    "\n",
    "        # Forward propagation: [LINEAR -> RELU]*(L-1) -> LINEAR -> SIGMOID.\n",
    "        ### START CODE HERE ### (≈ 1 line of code)\n",
    "        AL, caches = L_model_forward(X,parameters)\n",
    "        ### END CODE HERE ###\n",
    "        \n",
    "        # Compute cost.\n",
    "        ### START CODE HERE ### (≈ 1 line of code)\n",
    "        cost = compute_cost(AL,Y)\n",
    "        ### END CODE HERE ###\n",
    "    \n",
    "        # Backward propagation.\n",
    "        ### START CODE HERE ### (≈ 1 line of code)\n",
    "        grads = L_model_backward(AL,Y,caches)\n",
    "        ### END CODE HERE ###\n",
    " \n",
    "        # Update parameters.\n",
    "        ### START CODE HERE ### (≈ 1 line of code)\n",
    "        parameters = update_parameters(parameters,grads,learning_rate)\n",
    "        ### END CODE HERE ###\n",
    "                \n",
    "        # Print the cost every 100 training example\n",
    "        if print_cost and i % 100 == 0:\n",
    "            print (\"Cost after iteration %i: %f\" %(i, cost))\n",
    "        if print_cost and i % 100 == 0:\n",
    "            costs.append(cost)\n",
    "            \n",
    "    # plot the cost\n",
    "    plt.plot(np.squeeze(costs))\n",
    "    plt.ylabel('cost')\n",
    "    plt.xlabel('iterations (per tens)')\n",
    "    plt.title(\"Learning rate =\" + str(learning_rate))\n",
    "    plt.show()\n",
    "    \n",
    "    return parameters"
   ]
  },
  {
   "cell_type": "code",
   "execution_count": 9,
   "metadata": {},
   "outputs": [
    {
     "data": {
      "text/plain": [
       "(12288, 400)"
      ]
     },
     "execution_count": 9,
     "metadata": {},
     "output_type": "execute_result"
    }
   ],
   "source": [
    "train_x.shape"
   ]
  },
  {
   "cell_type": "code",
   "execution_count": 10,
   "metadata": {},
   "outputs": [
    {
     "name": "stdout",
     "output_type": "stream",
     "text": [
      "Cost after iteration 0: 0.698790\n",
      "Cost after iteration 100: 0.686135\n",
      "Cost after iteration 200: 0.680682\n",
      "Cost after iteration 300: 0.675614\n",
      "Cost after iteration 400: 0.670597\n",
      "Cost after iteration 500: 0.665456\n",
      "Cost after iteration 600: 0.660092\n",
      "Cost after iteration 700: 0.654494\n",
      "Cost after iteration 800: 0.648399\n",
      "Cost after iteration 900: 0.641530\n",
      "Cost after iteration 1000: 0.634118\n",
      "Cost after iteration 1100: 0.626143\n",
      "Cost after iteration 1200: 0.617131\n",
      "Cost after iteration 1300: 0.607083\n",
      "Cost after iteration 1400: 0.595267\n",
      "Cost after iteration 1500: 0.582160\n",
      "Cost after iteration 1600: 0.568870\n",
      "Cost after iteration 1700: 0.554709\n",
      "Cost after iteration 1800: 0.539575\n",
      "Cost after iteration 1900: 0.524629\n"
     ]
    },
    {
     "data": {
      "image/png": "[encoded data removed]",
      "text/plain": [
       "<matplotlib.figure.Figure at 0x7f9d4e755d68>"
      ]
     },
     "metadata": {},
     "output_type": "display_data"
    }
   ],
   "source": [
    "parameters = L_layer_model(train_x,train_y , layers_dims, num_iterations = 2000, print_cost = True)"
   ]
  },
  {
   "cell_type": "code",
   "execution_count": 11,
   "metadata": {},
   "outputs": [
    {
     "name": "stdout",
     "output_type": "stream",
     "text": [
      "Accuracy: 0.8199999999999998\n"
     ]
    }
   ],
   "source": [
    "pred_train = predict(train_x, train_y, parameters)"
   ]
  },
  {
   "cell_type": "code",
   "execution_count": 12,
   "metadata": {},
   "outputs": [
    {
     "name": "stdout",
     "output_type": "stream",
     "text": [
      "1001\n",
      "1001\n"
     ]
    }
   ],
   "source": [
    "path, dirs, cat_files_test = next(os.walk(\"test_set/cats/\"))\n",
    "file_count_cat = len(cat_files_test)\n",
    "print(file_count_cat)\n",
    "\n",
    "path, dirs, dog_files_test = next(os.walk(\"test_set/dogs/\"))\n",
    "file_count_dog = len(dog_files_test)\n",
    "print(file_count_dog)"
   ]
  },
  {
   "cell_type": "code",
   "execution_count": 17,
   "metadata": {},
   "outputs": [
    {
     "name": "stdout",
     "output_type": "stream",
     "text": [
      "100\n"
     ]
    }
   ],
   "source": [
    "n_cat_test = 50\n",
    "n_dog_test = 50\n",
    "\n",
    "#Variables\n",
    "m_test = n_cat_test + n_dog_test               # Number of train ex.\n",
    "print(m_test)\n",
    "num_px = 64\n",
    "y_test = np.zeros((1,m_test))\n",
    "X_test = np.zeros((12288,m_test))\n",
    "# Input Dataset from the folder\n",
    "\n",
    "for i in range(4000,m_test+4000):\n",
    "#     print(i%n_cat)\n",
    "    if i<n_cat_test+4000:\n",
    "        my_image = \"cat.\"+str(i+1)+\".jpg\" # change this to the name of your image file \n",
    "        fname = \"test_set/cats/\" + my_image\n",
    "        image = np.array(ndimage.imread(fname, flatten=False))\n",
    "        my_image = scipy.misc.imresize(image, size=(num_px,num_px)).reshape((num_px*num_px*3,1))\n",
    "        y_test[0][i%4000] = 1 # the true class of your image (1 -> cat, 0 -> non-cat)\n",
    "#         print(my_image)\n",
    "        X_test[:,i%4000] = my_image[:,0]\n",
    "#         print(X_train)\n",
    "        \n",
    "    else:\n",
    "        my_image = \"dog.\"+str(i+1-n_cat_test)+\".jpg\" # change this to the name of your image file \n",
    "        fname = \"test_set/dogs/\" + my_image\n",
    "        image = np.array(ndimage.imread(fname, flatten=False))\n",
    "        my_image = scipy.misc.imresize(image, size=(num_px,num_px)).reshape((num_px*num_px*3,1))\n",
    "        y_test[0][i%4000] = 0\n",
    "        X_test[:,i%4000] = my_image[:,0]\n",
    "    \n",
    "\n",
    "#     fname = \"test_set/cats/\" + my_image\n",
    "#     image = np.array(ndimage.imread(fname, flatten=False))\n",
    "#     my_image = scipy.misc.imresize(image, size=(num_px,num_px)).reshape((num_px*num_px*3,1))\n",
    "    # my_predicted_image = %precisiondict(my_image, my_label_y, parameters)\n",
    "# print (\"y = \" + str(np.squeeze(my_predicted_image)) + \", your L-layer model predicts a \\\"\" + \n",
    "#        classes[int(np.squeeze(my_predicted_image)),].decode(\"utf-8\") +  \"\\\" picture.\")\n",
    "\n",
    "# print(train_y[1:10])"
   ]
  },
  {
   "cell_type": "code",
   "execution_count": 18,
   "metadata": {},
   "outputs": [
    {
     "name": "stdout",
     "output_type": "stream",
     "text": [
      "Accuracy: 0.5700000000000001\n"
     ]
    }
   ],
   "source": [
    "test_x = X_test\n",
    "test_y = y_test \n",
    "pred_test = predict(test_x, test_y, parameters)\n"
   ]
  },
  {
   "cell_type": "code",
   "execution_count": null,
   "metadata": {},
   "outputs": [],
   "source": []
  }
 ],
 "metadata": {
  "kernelspec": {
   "display_name": "Python 3",
   "language": "python",
   "name": "python3"
  },
  "language_info": {
   "codemirror_mode": {
    "name": "ipython",
    "version": 3
   },
   "file_extension": ".py",
   "mimetype": "text/x-python",
   "name": "python",
   "nbconvert_exporter": "python",
   "pygments_lexer": "ipython3",
   "version": "3.5.2"
  }
 },
 "nbformat": 4,
 "nbformat_minor": 2
}
